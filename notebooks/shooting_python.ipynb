{
 "cells": [
  {
   "cell_type": "markdown",
   "metadata": {},
   "source": [
    "## Task\n",
    "$y^{''} (t) = sin (t),\\, y(0) = 0,\\, y (3\\pi) = -2$  \n",
    "As a result of the calculations, a solution should be obtained in the form of 10,000 points on the segment $[0; 3\\pi]$"
   ]
  },
  {
   "cell_type": "code",
   "execution_count": 362,
   "metadata": {},
   "outputs": [],
   "source": [
    "import numpy as np\n",
    "import matplotlib.pyplot as plt\n",
    "import time\n",
    "from scipy.integrate import solve_ivp\n",
    "from tqdm import tqdm\n",
    "from numba import jit\n",
    "%matplotlib inline"
   ]
  },
  {
   "cell_type": "code",
   "execution_count": 336,
   "metadata": {},
   "outputs": [],
   "source": [
    "#Analytical solution\n",
    "y_theo = lambda t: -2/3/np.pi*t-np.sin(t)"
   ]
  },
  {
   "cell_type": "code",
   "execution_count": 342,
   "metadata": {},
   "outputs": [],
   "source": [
    "#With scipy and while loop\n",
    "\n",
    "from scipy.integrate import solve_ivp\n",
    "\n",
    "def shooting(y0, y1, t0, t1, N, y_2=lambda t: np.sin(t), tol=1e-5):\n",
    "    T = np.linspace(t0, t1, N)\n",
    "    F = lambda t, S: np.array([[0,1],[0, y_2(t)/S[1]]]) @ S\n",
    "    error = np.Inf\n",
    "    guess = 1e-38\n",
    "    right_boundary = np.Inf\n",
    "    left_boundary = -np.Inf\n",
    "    \n",
    "    while error > tol:\n",
    "        \n",
    "        solution = solve_ivp(F, [t0, t1], [y0, guess], t_eval = T)\n",
    "        error = solution.y[0,-1] - y1\n",
    "             \n",
    "        if error > 0:\n",
    "            right_boundary = np.minimum(right_boundary, guess)\n",
    "            if np.isinf(left_boundary):\n",
    "                a = np.random.normal(100,10)\n",
    "                guess = right_boundary - np.sign(a)*a\n",
    "            else:\n",
    "                guess = (left_boundary+right_boundary)/2\n",
    "\n",
    "        else:\n",
    "            left_boundary = np.maximum(left_boundary, guess)\n",
    "            if np.isinf(right_boundary):\n",
    "                a = np.random.normal(100,10)\n",
    "                guess = left_boundary + np.sign(a)*a\n",
    "            else:\n",
    "                guess = (left_boundary+right_boundary)/2\n",
    "                \n",
    "        error = np.abs(error)\n",
    "\n",
    "    return solution"
   ]
  },
  {
   "cell_type": "code",
   "execution_count": 344,
   "metadata": {},
   "outputs": [
    {
     "name": "stdout",
     "output_type": "stream",
     "text": [
      "95.8 ms ± 27 ms per loop (mean ± std. dev. of 7 runs, 10 loops each)\n"
     ]
    },
    {
     "data": {
      "text/plain": [
       "[<matplotlib.lines.Line2D at 0x7ff851ea6a90>]"
      ]
     },
     "execution_count": 344,
     "metadata": {},
     "output_type": "execute_result"
    },
    {
     "data": {
      "image/png": "[encoded data removed]",
      "text/plain": [
       "<Figure size 432x288 with 1 Axes>"
      ]
     },
     "metadata": {
      "needs_background": "light"
     },
     "output_type": "display_data"
    }
   ],
   "source": [
    "%timeit shooting(0, -2, 0, 3*np.pi, 10000, tol=1e-8)\n",
    "solution = shooting(0, -2, 0, 3*np.pi, 10000, tol=1e-8)\n",
    "plt.plot(solution.t, solution.y[0])\n",
    "plt.plot(solution.t, y_theo(solution.t))"
   ]
  },
  {
   "cell_type": "code",
   "execution_count": 354,
   "metadata": {},
   "outputs": [],
   "source": [
    "#With scipy and fixed number of iterations\n",
    "\n",
    "from scipy.integrate import solve_ivp\n",
    "\n",
    "def shooting(y0, y1, t0, t1, N, y_2 = lambda t: np.sin(t), n_iterations = np.int(1e+6)):\n",
    "    T = np.linspace(t0, t1, N)\n",
    "    F = lambda t, S: np.array([[0,1],[0, y_2(t)/S[1]]]) @ S\n",
    "    error = np.Inf\n",
    "    guess = 1e-38\n",
    "    right_boundary = np.Inf\n",
    "    left_boundary = -np.Inf\n",
    "    \n",
    "    for _ in tqdm(range(n_iterations)):\n",
    "        \n",
    "        solution = solve_ivp(F, [t0, t1], [y0, guess], t_eval = T)\n",
    "        error = solution.y[0,-1] - y1\n",
    "        \n",
    "        if error > 0:\n",
    "            right_boundary = np.minimum(right_boundary, guess)\n",
    "            if np.isinf(left_boundary):\n",
    "                a = np.random.normal(100,10)\n",
    "                guess = right_boundary - np.sign(a)*a\n",
    "            else:\n",
    "                guess = (left_boundary+right_boundary)/2\n",
    "\n",
    "        else:\n",
    "            left_boundary = np.maximum(left_boundary, guess)\n",
    "            if np.isinf(right_boundary):\n",
    "                a = np.random.normal(100,10)\n",
    "                guess = left_boundary + np.sign(a)*a\n",
    "            else:\n",
    "                guess = (left_boundary+right_boundary)/2\n",
    "                \n",
    "    return solution"
   ]
  },
  {
   "cell_type": "code",
   "execution_count": 390,
   "metadata": {},
   "outputs": [],
   "source": [
    "solution = shooting(0, -2, 0, 3*np.pi, 10000, n_iterations = 10**6)\n",
    "plt.plot(solution.t, solution.y[0])\n",
    "plt.plot(solution.t, y_theo(solution.t))\n",
    "print(solution.y[0,-1])"
   ]
  }
 ],
 "metadata": {
  "environment": {
   "kernel": "python3",
   "name": "common-cu110.m86",
   "type": "gcloud",
   "uri": "gcr.io/deeplearning-platform-release/base-cu110:m86"
  },
  "kernelspec": {
   "display_name": "Python 3",
   "language": "python",
   "name": "python3"
  },
  "language_info": {
   "codemirror_mode": {
    "name": "ipython",
    "version": 3
   },
   "file_extension": ".py",
   "mimetype": "text/x-python",
   "name": "python",
   "nbconvert_exporter": "python",
   "pygments_lexer": "ipython3",
   "version": "3.9.0"
  }
 },
 "nbformat": 4,
 "nbformat_minor": 5
}
